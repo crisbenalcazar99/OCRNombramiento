{
 "cells": [
  {
   "cell_type": "code",
   "execution_count": 9,
   "metadata": {
    "collapsed": true,
    "ExecuteTime": {
     "end_time": "2023-11-18T19:40:04.965851700Z",
     "start_time": "2023-11-18T19:40:04.950945Z"
    }
   },
   "outputs": [
    {
     "data": {
      "text/plain": "   RLJE                         beneficiario  \\\n0    si      CESAR NAPOLEON SANTANA VILLAMAR   \n1    si  Margarita del Carmen Ormaza Serrano   \n2    si  Rodrigo Xavier Ribadeneira Parducci   \n3    no             Daniel Belatnde Arnillas   \n4    no        LUIS GERMAN LLIVICURA BARRERA   \n5    si                          Ayhan Cinar   \n6    si         Raul Gonzalo Montafio Garzon   \n7    no     Narcisa Cleopatra Ponce Zambrano   \n8    no                IGOR KROCHIN LAPENTTY   \n9    si      John William Bakker Villacreses   \n10   si   Sidney Ricardo Wright Duran Ballen   \n11   si  PATRICIA JACQUELINE MEDINA VALLAZZA   \n12   si      Fernando German Viscarra Montes   \n13   SI  VICUÑA GUTIERREZ JESENIA DEL CARMEN   \n14   si           LOPEZ LORENCES JEAN PIERRE   \n15   si       DEL SALTO NARVAEZ PABLO ANDRES   \n\n                               cargo  \\\n0                    GERENTE GENERAL   \n1                    GERENTE GENERAL   \n2                         PRESIDENTE   \n3          PRESIDENTE DEL DIRECTORIO   \n4                         PRESIDENTE   \n5                    Gerente general   \n6                         Presidente   \n7               PRESIDENTA EJECUTIVA   \n8                         PRESIDENTE   \n9               Presidente Ejecutivo   \n10                        PRESIDENTE   \n11  VICEPRESIDENTE DE TALENTO HUMANO   \n12                   Gerente General   \n13                   GERENTE GENERAL   \n14                   GERENTE GENERAL   \n15                        PRESIDENTE   \n\n                                             compania  \\\n0   SECURITY DATA SEGURIDAD EN DATOS Y FIRMA DIGIT...   \n1                      MARATHON CASA DE DEPORTES S.A.   \n2                       MARATHON CASA DE DEPORTES S.A   \n3                  CORPORACION GRUPO FYBECA. S.A. GPE   \n4   TRANSPORTES DE CARGA PESADA CRUZ AZUL TRANSCRU...   \n5   AGENCIA DE VIAJES FANTASY VIAJES FANTASYVIAJES...   \n6   AGENCIA DE VIAJES FANTASY VIAJES FANTASYVIAJES...   \n7                                  ACOEXPO CIA. LTDA.   \n8   SECURITY DATA SEGURIDAD EN DATOS Y FIRMA DIGIT...   \n9      PROCESADORA NACIONAL DE ALIMENTOS C.A. PRONACA   \n10                         CORPORACION FAVORITA C. A.   \n11                         CORPORACION FAVORITA C. A.   \n12       AGENCIA DE VIAJES PANDALAND TOURS CIA. LTDA.   \n13                             360TRAVELAGENCY S.A.S.   \n14                           BLACKPHONE LAB IFIX S.A.   \n15                           BLACKPHONE LAB IFIX S.A.   \n\n                                fecha          vigencia  \n0              11 de Febrero del 2022               DOS  \n1                 09 de junio de 2023          tres (3)  \n2               21 de febrero de 2022          tres (3)  \n3                  10 de mayo de 2021            UN ANO  \n4            18 de noviembre del 2008  un periodo de Ln  \n5                27 de marzo del 2020               DOS  \n6                 27de marzo del 2020               DOS  \n7              13 de febrero del 2012               DOS  \n8                07 de julio del 2020               DOS  \n9                 20 de marzo de 2023              tres  \n10                30 de marzo de 2022          dos años  \n11                30 de marzo de 2022               dos  \n12              14 de Diciembre, 2015               dos  \n13           25 de septiembre de 2023             CINCO  \n14  26 de Julio del dos mil dieciocho               dos  \n15  26 de Julio del dos mil dieciocho               dos  ",
      "text/html": "<div>\n<style scoped>\n    .dataframe tbody tr th:only-of-type {\n        vertical-align: middle;\n    }\n\n    .dataframe tbody tr th {\n        vertical-align: top;\n    }\n\n    .dataframe thead th {\n        text-align: right;\n    }\n</style>\n<table border=\"1\" class=\"dataframe\">\n  <thead>\n    <tr style=\"text-align: right;\">\n      <th></th>\n      <th>RLJE</th>\n      <th>beneficiario</th>\n      <th>cargo</th>\n      <th>compania</th>\n      <th>fecha</th>\n      <th>vigencia</th>\n    </tr>\n  </thead>\n  <tbody>\n    <tr>\n      <th>0</th>\n      <td>si</td>\n      <td>CESAR NAPOLEON SANTANA VILLAMAR</td>\n      <td>GERENTE GENERAL</td>\n      <td>SECURITY DATA SEGURIDAD EN DATOS Y FIRMA DIGIT...</td>\n      <td>11 de Febrero del 2022</td>\n      <td>DOS</td>\n    </tr>\n    <tr>\n      <th>1</th>\n      <td>si</td>\n      <td>Margarita del Carmen Ormaza Serrano</td>\n      <td>GERENTE GENERAL</td>\n      <td>MARATHON CASA DE DEPORTES S.A.</td>\n      <td>09 de junio de 2023</td>\n      <td>tres (3)</td>\n    </tr>\n    <tr>\n      <th>2</th>\n      <td>si</td>\n      <td>Rodrigo Xavier Ribadeneira Parducci</td>\n      <td>PRESIDENTE</td>\n      <td>MARATHON CASA DE DEPORTES S.A</td>\n      <td>21 de febrero de 2022</td>\n      <td>tres (3)</td>\n    </tr>\n    <tr>\n      <th>3</th>\n      <td>no</td>\n      <td>Daniel Belatnde Arnillas</td>\n      <td>PRESIDENTE DEL DIRECTORIO</td>\n      <td>CORPORACION GRUPO FYBECA. S.A. GPE</td>\n      <td>10 de mayo de 2021</td>\n      <td>UN ANO</td>\n    </tr>\n    <tr>\n      <th>4</th>\n      <td>no</td>\n      <td>LUIS GERMAN LLIVICURA BARRERA</td>\n      <td>PRESIDENTE</td>\n      <td>TRANSPORTES DE CARGA PESADA CRUZ AZUL TRANSCRU...</td>\n      <td>18 de noviembre del 2008</td>\n      <td>un periodo de Ln</td>\n    </tr>\n    <tr>\n      <th>5</th>\n      <td>si</td>\n      <td>Ayhan Cinar</td>\n      <td>Gerente general</td>\n      <td>AGENCIA DE VIAJES FANTASY VIAJES FANTASYVIAJES...</td>\n      <td>27 de marzo del 2020</td>\n      <td>DOS</td>\n    </tr>\n    <tr>\n      <th>6</th>\n      <td>si</td>\n      <td>Raul Gonzalo Montafio Garzon</td>\n      <td>Presidente</td>\n      <td>AGENCIA DE VIAJES FANTASY VIAJES FANTASYVIAJES...</td>\n      <td>27de marzo del 2020</td>\n      <td>DOS</td>\n    </tr>\n    <tr>\n      <th>7</th>\n      <td>no</td>\n      <td>Narcisa Cleopatra Ponce Zambrano</td>\n      <td>PRESIDENTA EJECUTIVA</td>\n      <td>ACOEXPO CIA. LTDA.</td>\n      <td>13 de febrero del 2012</td>\n      <td>DOS</td>\n    </tr>\n    <tr>\n      <th>8</th>\n      <td>no</td>\n      <td>IGOR KROCHIN LAPENTTY</td>\n      <td>PRESIDENTE</td>\n      <td>SECURITY DATA SEGURIDAD EN DATOS Y FIRMA DIGIT...</td>\n      <td>07 de julio del 2020</td>\n      <td>DOS</td>\n    </tr>\n    <tr>\n      <th>9</th>\n      <td>si</td>\n      <td>John William Bakker Villacreses</td>\n      <td>Presidente Ejecutivo</td>\n      <td>PROCESADORA NACIONAL DE ALIMENTOS C.A. PRONACA</td>\n      <td>20 de marzo de 2023</td>\n      <td>tres</td>\n    </tr>\n    <tr>\n      <th>10</th>\n      <td>si</td>\n      <td>Sidney Ricardo Wright Duran Ballen</td>\n      <td>PRESIDENTE</td>\n      <td>CORPORACION FAVORITA C. A.</td>\n      <td>30 de marzo de 2022</td>\n      <td>dos años</td>\n    </tr>\n    <tr>\n      <th>11</th>\n      <td>si</td>\n      <td>PATRICIA JACQUELINE MEDINA VALLAZZA</td>\n      <td>VICEPRESIDENTE DE TALENTO HUMANO</td>\n      <td>CORPORACION FAVORITA C. A.</td>\n      <td>30 de marzo de 2022</td>\n      <td>dos</td>\n    </tr>\n    <tr>\n      <th>12</th>\n      <td>si</td>\n      <td>Fernando German Viscarra Montes</td>\n      <td>Gerente General</td>\n      <td>AGENCIA DE VIAJES PANDALAND TOURS CIA. LTDA.</td>\n      <td>14 de Diciembre, 2015</td>\n      <td>dos</td>\n    </tr>\n    <tr>\n      <th>13</th>\n      <td>SI</td>\n      <td>VICUÑA GUTIERREZ JESENIA DEL CARMEN</td>\n      <td>GERENTE GENERAL</td>\n      <td>360TRAVELAGENCY S.A.S.</td>\n      <td>25 de septiembre de 2023</td>\n      <td>CINCO</td>\n    </tr>\n    <tr>\n      <th>14</th>\n      <td>si</td>\n      <td>LOPEZ LORENCES JEAN PIERRE</td>\n      <td>GERENTE GENERAL</td>\n      <td>BLACKPHONE LAB IFIX S.A.</td>\n      <td>26 de Julio del dos mil dieciocho</td>\n      <td>dos</td>\n    </tr>\n    <tr>\n      <th>15</th>\n      <td>si</td>\n      <td>DEL SALTO NARVAEZ PABLO ANDRES</td>\n      <td>PRESIDENTE</td>\n      <td>BLACKPHONE LAB IFIX S.A.</td>\n      <td>26 de Julio del dos mil dieciocho</td>\n      <td>dos</td>\n    </tr>\n  </tbody>\n</table>\n</div>"
     },
     "execution_count": 9,
     "metadata": {},
     "output_type": "execute_result"
    }
   ],
   "source": [
    "import pandas as pd\n",
    "import json\n",
    "\n",
    "data_directory = r'C:\\Users\\cristianbenalcazar\\PycharmProjects\\OCR\\Answer_file\\List_dictionaryFINAL.json'\n",
    "with open(data_directory, 'r') as archivo:\n",
    "    data_table = json.load(archivo)\n",
    "\n",
    "# Crear un DataFrame con los datos\n",
    "df = pd.DataFrame(data_table)\n",
    "\n",
    "# Mostrar la tabla\n",
    "df"
   ]
  },
  {
   "cell_type": "code",
   "execution_count": 10,
   "outputs": [
    {
     "data": {
      "text/plain": "   RLJE                         beneficiario  \\\n0    si      CESAR NAPOLEON SANTANA VILLAMAR   \n1    si  Margarita del Carmen Ormaza Serrano   \n2    si  Rodrigo Xavier Ribadeneira Parducci   \n3    no             Daniel Belatnde Arnillas   \n4    no        LUIS GERMAN LLIVICURA BARRERA   \n5    si                          Ayhan Cinar   \n6    si         Raul Gonzalo Montafio Garzon   \n7    no     Narcisa Cleopatra Ponce Zambrano   \n8    no                IGOR KROCHIN LAPENTTY   \n9    si      John William Bakker Villacreses   \n10   si   Sidney Ricardo Wright Duran Ballen   \n11   si  PATRICIA JACQUELINE MEDINA VALLAZZA   \n12   si      Fernando German Viscarra Montes   \n13   SI  VICUÑA GUTIERREZ JESENIA DEL CARMEN   \n14   si           LOPEZ LORENCES JEAN PIERRE   \n15   si       DEL SALTO NARVAEZ PABLO ANDRES   \n\n                               cargo  \\\n0                    GERENTE GENERAL   \n1                    GERENTE GENERAL   \n2                         PRESIDENTE   \n3          PRESIDENTE DEL DIRECTORIO   \n4                         PRESIDENTE   \n5                    Gerente general   \n6                         Presidente   \n7               PRESIDENTA EJECUTIVA   \n8                         PRESIDENTE   \n9               Presidente Ejecutivo   \n10                        PRESIDENTE   \n11  VICEPRESIDENTE DE TALENTO HUMANO   \n12                   Gerente General   \n13                   GERENTE GENERAL   \n14                   GERENTE GENERAL   \n15                        PRESIDENTE   \n\n                                             compania  \\\n0   SECURITY DATA SEGURIDAD EN DATOS Y FIRMA DIGIT...   \n1                      MARATHON CASA DE DEPORTES S.A.   \n2                       MARATHON CASA DE DEPORTES S.A   \n3                  CORPORACION GRUPO FYBECA. S.A. GPE   \n4   TRANSPORTES DE CARGA PESADA CRUZ AZUL TRANSCRU...   \n5   AGENCIA DE VIAJES FANTASY VIAJES FANTASYVIAJES...   \n6   AGENCIA DE VIAJES FANTASY VIAJES FANTASYVIAJES...   \n7                                  ACOEXPO CIA. LTDA.   \n8   SECURITY DATA SEGURIDAD EN DATOS Y FIRMA DIGIT...   \n9      PROCESADORA NACIONAL DE ALIMENTOS C.A. PRONACA   \n10                         CORPORACION FAVORITA C. A.   \n11                         CORPORACION FAVORITA C. A.   \n12       AGENCIA DE VIAJES PANDALAND TOURS CIA. LTDA.   \n13                             360TRAVELAGENCY S.A.S.   \n14                           BLACKPHONE LAB IFIX S.A.   \n15                           BLACKPHONE LAB IFIX S.A.   \n\n                                fecha          vigencia  \n0              11 de Febrero del 2022               DOS  \n1                 09 de junio de 2023          tres (3)  \n2               21 de febrero de 2022          tres (3)  \n3                  10 de mayo de 2021            UN ANO  \n4            18 de noviembre del 2008  un periodo de Ln  \n5                27 de marzo del 2020               DOS  \n6                 27de marzo del 2020               DOS  \n7              13 de febrero del 2012               DOS  \n8                07 de julio del 2020               DOS  \n9                 20 de marzo de 2023              tres  \n10                30 de marzo de 2022          dos años  \n11                30 de marzo de 2022               dos  \n12              14 de Diciembre, 2015               dos  \n13           25 de septiembre de 2023             CINCO  \n14  26 de Julio del dos mil dieciocho               dos  \n15  26 de Julio del dos mil dieciocho               dos  ",
      "text/html": "<div>\n<style scoped>\n    .dataframe tbody tr th:only-of-type {\n        vertical-align: middle;\n    }\n\n    .dataframe tbody tr th {\n        vertical-align: top;\n    }\n\n    .dataframe thead th {\n        text-align: right;\n    }\n</style>\n<table border=\"1\" class=\"dataframe\">\n  <thead>\n    <tr style=\"text-align: right;\">\n      <th></th>\n      <th>RLJE</th>\n      <th>beneficiario</th>\n      <th>cargo</th>\n      <th>compania</th>\n      <th>fecha</th>\n      <th>vigencia</th>\n    </tr>\n  </thead>\n  <tbody>\n    <tr>\n      <th>0</th>\n      <td>si</td>\n      <td>CESAR NAPOLEON SANTANA VILLAMAR</td>\n      <td>GERENTE GENERAL</td>\n      <td>SECURITY DATA SEGURIDAD EN DATOS Y FIRMA DIGIT...</td>\n      <td>11 de Febrero del 2022</td>\n      <td>DOS</td>\n    </tr>\n    <tr>\n      <th>1</th>\n      <td>si</td>\n      <td>Margarita del Carmen Ormaza Serrano</td>\n      <td>GERENTE GENERAL</td>\n      <td>MARATHON CASA DE DEPORTES S.A.</td>\n      <td>09 de junio de 2023</td>\n      <td>tres (3)</td>\n    </tr>\n    <tr>\n      <th>2</th>\n      <td>si</td>\n      <td>Rodrigo Xavier Ribadeneira Parducci</td>\n      <td>PRESIDENTE</td>\n      <td>MARATHON CASA DE DEPORTES S.A</td>\n      <td>21 de febrero de 2022</td>\n      <td>tres (3)</td>\n    </tr>\n    <tr>\n      <th>3</th>\n      <td>no</td>\n      <td>Daniel Belatnde Arnillas</td>\n      <td>PRESIDENTE DEL DIRECTORIO</td>\n      <td>CORPORACION GRUPO FYBECA. S.A. GPE</td>\n      <td>10 de mayo de 2021</td>\n      <td>UN ANO</td>\n    </tr>\n    <tr>\n      <th>4</th>\n      <td>no</td>\n      <td>LUIS GERMAN LLIVICURA BARRERA</td>\n      <td>PRESIDENTE</td>\n      <td>TRANSPORTES DE CARGA PESADA CRUZ AZUL TRANSCRU...</td>\n      <td>18 de noviembre del 2008</td>\n      <td>un periodo de Ln</td>\n    </tr>\n    <tr>\n      <th>5</th>\n      <td>si</td>\n      <td>Ayhan Cinar</td>\n      <td>Gerente general</td>\n      <td>AGENCIA DE VIAJES FANTASY VIAJES FANTASYVIAJES...</td>\n      <td>27 de marzo del 2020</td>\n      <td>DOS</td>\n    </tr>\n    <tr>\n      <th>6</th>\n      <td>si</td>\n      <td>Raul Gonzalo Montafio Garzon</td>\n      <td>Presidente</td>\n      <td>AGENCIA DE VIAJES FANTASY VIAJES FANTASYVIAJES...</td>\n      <td>27de marzo del 2020</td>\n      <td>DOS</td>\n    </tr>\n    <tr>\n      <th>7</th>\n      <td>no</td>\n      <td>Narcisa Cleopatra Ponce Zambrano</td>\n      <td>PRESIDENTA EJECUTIVA</td>\n      <td>ACOEXPO CIA. LTDA.</td>\n      <td>13 de febrero del 2012</td>\n      <td>DOS</td>\n    </tr>\n    <tr>\n      <th>8</th>\n      <td>no</td>\n      <td>IGOR KROCHIN LAPENTTY</td>\n      <td>PRESIDENTE</td>\n      <td>SECURITY DATA SEGURIDAD EN DATOS Y FIRMA DIGIT...</td>\n      <td>07 de julio del 2020</td>\n      <td>DOS</td>\n    </tr>\n    <tr>\n      <th>9</th>\n      <td>si</td>\n      <td>John William Bakker Villacreses</td>\n      <td>Presidente Ejecutivo</td>\n      <td>PROCESADORA NACIONAL DE ALIMENTOS C.A. PRONACA</td>\n      <td>20 de marzo de 2023</td>\n      <td>tres</td>\n    </tr>\n    <tr>\n      <th>10</th>\n      <td>si</td>\n      <td>Sidney Ricardo Wright Duran Ballen</td>\n      <td>PRESIDENTE</td>\n      <td>CORPORACION FAVORITA C. A.</td>\n      <td>30 de marzo de 2022</td>\n      <td>dos años</td>\n    </tr>\n    <tr>\n      <th>11</th>\n      <td>si</td>\n      <td>PATRICIA JACQUELINE MEDINA VALLAZZA</td>\n      <td>VICEPRESIDENTE DE TALENTO HUMANO</td>\n      <td>CORPORACION FAVORITA C. A.</td>\n      <td>30 de marzo de 2022</td>\n      <td>dos</td>\n    </tr>\n    <tr>\n      <th>12</th>\n      <td>si</td>\n      <td>Fernando German Viscarra Montes</td>\n      <td>Gerente General</td>\n      <td>AGENCIA DE VIAJES PANDALAND TOURS CIA. LTDA.</td>\n      <td>14 de Diciembre, 2015</td>\n      <td>dos</td>\n    </tr>\n    <tr>\n      <th>13</th>\n      <td>SI</td>\n      <td>VICUÑA GUTIERREZ JESENIA DEL CARMEN</td>\n      <td>GERENTE GENERAL</td>\n      <td>360TRAVELAGENCY S.A.S.</td>\n      <td>25 de septiembre de 2023</td>\n      <td>CINCO</td>\n    </tr>\n    <tr>\n      <th>14</th>\n      <td>si</td>\n      <td>LOPEZ LORENCES JEAN PIERRE</td>\n      <td>GERENTE GENERAL</td>\n      <td>BLACKPHONE LAB IFIX S.A.</td>\n      <td>26 de Julio del dos mil dieciocho</td>\n      <td>dos</td>\n    </tr>\n    <tr>\n      <th>15</th>\n      <td>si</td>\n      <td>DEL SALTO NARVAEZ PABLO ANDRES</td>\n      <td>PRESIDENTE</td>\n      <td>BLACKPHONE LAB IFIX S.A.</td>\n      <td>26 de Julio del dos mil dieciocho</td>\n      <td>dos</td>\n    </tr>\n  </tbody>\n</table>\n</div>"
     },
     "metadata": {},
     "output_type": "display_data"
    }
   ],
   "source": [
    "from IPython.display import display\n",
    "\n",
    "# Mostrar la tabla utilizando display\n",
    "display(df)"
   ],
   "metadata": {
    "collapsed": false,
    "ExecuteTime": {
     "end_time": "2023-11-18T19:40:05.280490200Z",
     "start_time": "2023-11-18T19:40:05.235751300Z"
    }
   }
  },
  {
   "cell_type": "code",
   "execution_count": null,
   "outputs": [],
   "source": [],
   "metadata": {
    "collapsed": false
   }
  }
 ],
 "metadata": {
  "kernelspec": {
   "display_name": "Python 3",
   "language": "python",
   "name": "python3"
  },
  "language_info": {
   "codemirror_mode": {
    "name": "ipython",
    "version": 2
   },
   "file_extension": ".py",
   "mimetype": "text/x-python",
   "name": "python",
   "nbconvert_exporter": "python",
   "pygments_lexer": "ipython2",
   "version": "2.7.6"
  }
 },
 "nbformat": 4,
 "nbformat_minor": 0
}
